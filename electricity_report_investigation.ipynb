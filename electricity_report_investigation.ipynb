{
 "cells": [
  {
   "cell_type": "code",
   "execution_count": 1,
   "metadata": {},
   "outputs": [
    {
     "name": "stdout",
     "output_type": "stream",
     "text": [
      "[[ 0.00000000e+00  0.00000000e+00  0.00000000e+00]\n",
      " [ 5.86381711e-11  0.00000000e+00  7.57322474e-11]\n",
      " [ 5.86381711e-11  0.00000000e+00 -7.57322474e-11]] [-0.6569052996153647, 0.32845264980768235, 0.32845264980768235]\n",
      "Typical value is -8.66e-19 or -8.754e-19 J.\n",
      "Total E= -8.753229796504332e-19\n"
     ]
    }
   ],
   "source": [
    "from ipywidgets import interact\n",
    "from MPC2_phy_proj import *\n",
    "\n",
    "test_env()"
   ]
  },
  {
   "cell_type": "markdown",
   "metadata": {},
   "source": [
    "# Test cell"
   ]
  },
  {
   "cell_type": "code",
   "execution_count": 3,
   "metadata": {},
   "outputs": [
    {
     "data": {
      "text/plain": [
       "0.9745401671213969"
      ]
     },
     "execution_count": 3,
     "metadata": {},
     "output_type": "execute_result"
    }
   ],
   "source": [
    "O_coord = np.array([0.8974, -1.285111, 1.375674])\n",
    "H_coord = np.array([0.93366, -1.620249, 0.461291])\n",
    "dist(O_coord,H_coord)"
   ]
  },
  {
   "cell_type": "code",
   "execution_count": 47,
   "metadata": {},
   "outputs": [],
   "source": [
    "import math\n",
    "\n",
    "\n",
    "def fibonacci_sphere(samples=1000):\n",
    "\n",
    "    x_p = []\n",
    "    y_p = []\n",
    "    z_p = []\n",
    "    \n",
    "    phi = math.pi * (3. - math.sqrt(5.))  # golden angle in radians\n",
    "\n",
    "    for i in range(samples):\n",
    "        y = 1 - (i / float(samples - 1)) * 2  # y goes from 1 to -1\n",
    "        radius = math.sqrt(1 - y * y)  # radius at y\n",
    "\n",
    "        theta = phi * i  # golden angle increment\n",
    "\n",
    "        x = math.cos(theta) * radius\n",
    "        z = math.sin(theta) * radius\n",
    "\n",
    "        x_p.append(x)\n",
    "        y_p.append(y)\n",
    "        z_p.append(z)\n",
    "\n",
    "    return x_p,y_p,z_p\n",
    "\n",
    "\n",
    "\n",
    "def translate(value, leftMin, leftMax, rightMin, rightMax):\n",
    "    # Figure out how 'wide' each range is\n",
    "    leftSpan = leftMax - leftMin\n",
    "    rightSpan = rightMax - rightMin\n",
    "\n",
    "    # Convert the left range into a 0-1 range (float)\n",
    "    valueScaled = float(value - leftMin) / float(leftSpan)\n",
    "\n",
    "    # Convert the 0-1 range into a value in the right range.\n",
    "    return rightMin + (valueScaled * rightSpan)\n",
    "\n",
    "\n",
    "   \n",
    "\n",
    "def surf_sph(radius):\n",
    "    x_p,y_p,z_p = fibonacci_sphere(samples=6) \n",
    "    if radius <= 0.5:\n",
    "        mappedStart=0.5-radius\n",
    "        mappedEnd=radius+0.5\n",
    "        x_p_mapped = [0.5]\n",
    "        for i in x_p:\n",
    "            x_p_mapped.append(translate(i,-1,1,mappedStart,mappedEnd))\n",
    "        y_p_mapped = [0.5]\n",
    "        for i in y_p:\n",
    "            y_p_mapped.append(translate(i,-1,1,mappedStart,mappedEnd))\n",
    "\n",
    "        z_p_mapped = [0.5]\n",
    "        for i in z_p:\n",
    "            z_p_mapped.append(translate(i,-1,1,mappedStart,mappedEnd))\n",
    "    else:\n",
    "        print('Radius is too large')\n",
    "    return x_p_mapped,y_p_mapped,z_p_mapped"
   ]
  },
  {
   "cell_type": "code",
   "execution_count": 50,
   "metadata": {},
   "outputs": [
    {
     "data": {
      "application/vnd.jupyter.widget-view+json": {
       "model_id": "31aad1e8dfc045ea8719a81f86a6505f",
       "version_major": 2,
       "version_minor": 0
      },
      "text/plain": [
       "interactive(children=(IntSlider(value=30, description='elevpara', max=90, min=-27, step=3), IntSlider(value=-6…"
      ]
     },
     "metadata": {},
     "output_type": "display_data"
    }
   ],
   "source": [
    "#test cell, can be run for infinite time\n",
    "\n",
    "\n",
    "xa,ya,za = surf_sph(0.23)\n",
    "thetar=np.random.rand(7)*np.pi*2 \n",
    "phir=np.random.rand(7)*np.pi*2 \n",
    "moltypes =[2,1,1,1,1,1,1]\n",
    "\n",
    "rall,qall = allatomposns(moltypes,xa,ya,za,phir,thetar)\n",
    "#print(constrain01(rall,0.02))\n",
    "\n",
    "\n",
    "@interact\n",
    "def make_plot_2(elevpara=(-27,90,3),azimpara=(-117,0,3)):\n",
    "    f1,ax1=mol_plot(moltypes,xa,ya,za,phir,thetar)\n",
    "    ax1.set_xlabel('x (nm)')\n",
    "    ax1.set_ylabel('y (nm)')\n",
    "    ax1.set_zlabel('z (nm)')\n",
    "    ax1.set_title('molecule positions')\n",
    "    ax1.set_aspect('auto')\n",
    "    ax1.view_init(elev=elevpara, azim=azimpara) #adjust 'camera angle' with this command if desired - angles are in degrees\n",
    "    f1.show();"
   ]
  },
  {
   "cell_type": "markdown",
   "metadata": {},
   "source": [
    "# Test interactive"
   ]
  },
  {
   "cell_type": "code",
   "execution_count": 40,
   "metadata": {
    "scrolled": false
   },
   "outputs": [
    {
     "name": "stdout",
     "output_type": "stream",
     "text": [
      "total E: -5.266876395226363e-27\n"
     ]
    },
    {
     "data": {
      "application/vnd.jupyter.widget-view+json": {
       "model_id": "afcbe0fc0ce94e9b8099f25fcc080dbd",
       "version_major": 2,
       "version_minor": 0
      },
      "text/plain": [
       "interactive(children=(IntSlider(value=30, description='elevpara', max=90, min=-27, step=3), IntSlider(value=-6…"
      ]
     },
     "metadata": {},
     "output_type": "display_data"
    }
   ],
   "source": [
    "#Debugging Part 2/3\n",
    "\n",
    "rb = ra/2*3**0.5\n",
    "c = 0.5\n",
    "\n",
    "xa,ya,za = surf_sph(i)\n",
    "\n",
    "\n",
    "thetar = [0,0,0,0,0,0]\n",
    "phir = np.linspace(-np.pi,+np.pi,6) \n",
    "moltypes =[1,1,1,1,1,1] \n",
    "\n",
    "rall,qall = allatomposns(moltypes,xa,ya,za,phir,thetar)\n",
    "print('total E:', potl_energy_sum(rall,qall))\n",
    "\n",
    "#print(rall,qall)\n",
    "@interact\n",
    "def make_plot_2(elevpara=(-27,90,3),azimpara=(-117,0,3)):\n",
    "    f1,ax1=mol_plot(moltypes,xa,ya,za,phir,thetar)\n",
    "    ax1.set_xlabel('x (nm)')\n",
    "    ax1.set_ylabel('y (nm)')\n",
    "    ax1.set_zlabel('z (nm)')\n",
    "    ax1.set_title('molecule positions')\n",
    "    ax1.set_aspect('auto')\n",
    "    ax1.view_init(elev=elevpara, azim=azimpara) #adjust 'camera angle' with this command if desired - angles are in degrees\n",
    "    f1.show();"
   ]
  },
  {
   "cell_type": "code",
   "execution_count": 9,
   "metadata": {
    "scrolled": false
   },
   "outputs": [
    {
     "name": "stdout",
     "output_type": "stream",
     "text": [
      "total E: -5.281986939532095e-18\n"
     ]
    },
    {
     "data": {
      "application/vnd.jupyter.widget-view+json": {
       "model_id": "92b82153304e4c65ae78777eb7ed5666",
       "version_major": 2,
       "version_minor": 0
      },
      "text/plain": [
       "interactive(children=(IntSlider(value=30, description='elevpara', max=90, min=-27, step=3), IntSlider(value=-6…"
      ]
     },
     "metadata": {},
     "output_type": "display_data"
    }
   ],
   "source": [
    "#Debugging Part 2/3\n",
    "\n",
    "xa=[0.5,0.933,0.933,0.5,0.067,0.067] #x coordinates of molecule anchors\n",
    "ya=[0,0.25,0.75,1,0.75,0.25] #y coordinates of molecule anchors\n",
    "za=[0,0,0,0,0,0] #z coordinates of molecule anchors\n",
    "thetar=[0,0,0,0,0,0] #no theta rotation for any of the molecules\n",
    "#print(thetar)\n",
    "phir=[3.141592653589793,4.1887902047863905,5.235987755982989,0.0,1.0471975511965976,2.0943951023931953]\n",
    "\n",
    "\n",
    "moltypes =[1,1,1,1,1,1]\n",
    "xyza = np.stack((np.array(xa), np.array(ya),np.array(za)), axis=-1)\n",
    "\n",
    "#calculate the total E for this generated sys.\n",
    "rall,qall = allatomposns(moltypes,xa,ya,za,phir,thetar)\n",
    "rall = np.array(rall)*1e-9\n",
    "potl_E_sum = potl_energy_sum(rall,qall)\n",
    "\n",
    "print('total E:', potl_energy_sum(rall,qall))\n",
    "\n",
    "@interact\n",
    "def make_plot_2(elevpara=(-27,90,3),azimpara=(-117,0,3)):\n",
    "    f1,ax1=mol_plot(moltypes,xa,ya,za,phir,thetar)\n",
    "    ax1.set_xlabel('x (nm)')\n",
    "    ax1.set_ylabel('y (nm)')\n",
    "    ax1.set_zlabel('z (nm)')\n",
    "    ax1.set_title('molecule positions')\n",
    "    ax1.set_aspect('auto')\n",
    "    ax1.view_init(elev=elevpara, azim=azimpara) #adjust 'camera angle' with this command if desired - angles are in degrees\n",
    "    f1.show();"
   ]
  },
  {
   "cell_type": "markdown",
   "metadata": {},
   "source": [
    "# Test energy only"
   ]
  },
  {
   "cell_type": "markdown",
   "metadata": {},
   "source": [
    "# for two molecules"
   ]
  },
  {
   "cell_type": "markdown",
   "metadata": {},
   "source": [
    "### Investigation 1D: total potential energy against distance between two charges"
   ]
  },
  {
   "cell_type": "code",
   "execution_count": 7,
   "metadata": {},
   "outputs": [
    {
     "name": "stderr",
     "output_type": "stream",
     "text": [
      "C:\\Users\\AlbertCielstian\\Documents\\file_Chemistry_BSc\\yr2_MPC2_phy_proj\\MPC2_phy_proj.py:38: RuntimeWarning: divide by zero encountered in double_scalars\n",
      "  V=K * (q1*e/dist(r0,r1))\n"
     ]
    },
    {
     "data": {
      "image/png": "[encoded data removed]",
      "text/plain": [
       "<Figure size 576x396 with 1 Axes>"
      ]
     },
     "metadata": {
      "needs_background": "light"
     },
     "output_type": "display_data"
    }
   ],
   "source": [
    "ditance_bw_charges = np.linspace(0,1,100)\n",
    "total_E_two_charges = []\n",
    "\n",
    "for i in ditance_bw_charges:\n",
    "    xa = [0,i] \n",
    "    ya = [0.3,0.3] \n",
    "    za = [0.3,0.3]\n",
    "\n",
    "    thetar = [0,0] \n",
    "    phir = [0,np.pi] \n",
    "    moltypes =[1,1] \n",
    "\n",
    "    rall,qall = allatomposns(moltypes,xa,ya,za,phir,thetar)\n",
    "    rall = np.array(rall)*1e-9\n",
    "\n",
    "    potl_E_sum = potl_energy_sum(rall,qall)\n",
    "    total_E_two_charges.append(potl_E_sum)\n",
    "\n",
    "\n",
    "plt.figure(figsize=(8,5.5)) \n",
    "plt.title('total E energy against distance',fontsize=14)\n",
    "plt.plot(ditance_bw_charges, total_E_two_charges, marker='*')\n",
    "\n",
    "plt.xlabel('distance(nm)')\n",
    "plt.ylabel('total E (J)')\n",
    "plt.show();"
   ]
  },
  {
   "cell_type": "code",
   "execution_count": 8,
   "metadata": {},
   "outputs": [
    {
     "data": {
      "text/plain": [
       "array([[        inf,  0.99350054,  0.24335936, -0.01049173, -0.13522079,\n",
       "        -0.20198368, -0.23238317, -0.23327431, -0.20349494, -0.12929106,\n",
       "         0.0491759 ,  0.80785451,  1.50268081,  0.14763133, -0.06510411,\n",
       "        -0.14699543, -0.18802346, -0.21142129, -0.22585073, -0.23524155]])"
      ]
     },
     "execution_count": 8,
     "metadata": {},
     "output_type": "execute_result"
    }
   ],
   "source": [
    "np.array([total_E_two_charges[:20]])*1e17"
   ]
  },
  {
   "cell_type": "code",
   "execution_count": 9,
   "metadata": {},
   "outputs": [
    {
     "data": {
      "text/plain": [
       "array([[0.        , 0.01010101, 0.02020202, 0.03030303, 0.04040404,\n",
       "        0.05050505, 0.06060606, 0.07070707, 0.08080808, 0.09090909,\n",
       "        0.1010101 , 0.11111111, 0.12121212, 0.13131313, 0.14141414,\n",
       "        0.15151515, 0.16161616, 0.17171717, 0.18181818, 0.19191919]])"
      ]
     },
     "execution_count": 9,
     "metadata": {},
     "output_type": "execute_result"
    }
   ],
   "source": [
    "np.array([ditance_bw_charges[:20]])"
   ]
  },
  {
   "cell_type": "code",
   "execution_count": 10,
   "metadata": {},
   "outputs": [
    {
     "data": {
      "text/plain": [
       "1.3131313000000001e-18"
      ]
     },
     "execution_count": 10,
     "metadata": {},
     "output_type": "execute_result"
    }
   ],
   "source": [
    "0.13131313*1e-17"
   ]
  },
  {
   "cell_type": "markdown",
   "metadata": {},
   "source": [
    "### Investigation 1D: total potential energy against theta for one molecule"
   ]
  },
  {
   "cell_type": "code",
   "execution_count": 11,
   "metadata": {},
   "outputs": [
    {
     "data": {
      "image/png": "[encoded data removed]",
      "text/plain": [
       "<Figure size 576x396 with 1 Axes>"
      ]
     },
     "metadata": {
      "needs_background": "light"
     },
     "output_type": "display_data"
    }
   ],
   "source": [
    "theta_for_one_mo = np.linspace(-np.pi,np.pi,100)\n",
    "total_E_two_charges = []\n",
    "\n",
    "for i in theta_for_one_mo:\n",
    "    xa = [0,0.6] \n",
    "    ya = [0.3,0.3] \n",
    "    za = [0.3,0.3]\n",
    "\n",
    "    thetar = [0,i] \n",
    "    phir = [0,0] \n",
    "    moltypes =[1,1] \n",
    "\n",
    "    rall,qall = allatomposns(moltypes,xa,ya,za,phir,thetar)\n",
    "    rall = np.array(rall)*1e-9\n",
    "\n",
    "    potl_E_sum = potl_energy_sum(rall,qall)\n",
    "    total_E_two_charges.append(potl_E_sum)\n",
    "\n",
    "\n",
    "plt.figure(figsize=(8,5.5)) \n",
    "plt.title('total E energy against theta',fontsize=14)\n",
    "plt.plot(theta_for_one_mo, total_E_two_charges, marker='*')\n",
    "\n",
    "plt.xlabel('theta(rad)')\n",
    "plt.ylabel('total E (J)')\n",
    "plt.show();"
   ]
  },
  {
   "cell_type": "markdown",
   "metadata": {},
   "source": [
    "### Investigation 1D: total potential energy against phi for one molecule"
   ]
  },
  {
   "cell_type": "code",
   "execution_count": 12,
   "metadata": {
    "scrolled": false
   },
   "outputs": [
    {
     "data": {
      "image/png": "[encoded data removed]",
      "text/plain": [
       "<Figure size 576x396 with 1 Axes>"
      ]
     },
     "metadata": {
      "needs_background": "light"
     },
     "output_type": "display_data"
    }
   ],
   "source": [
    "phi_for_one_mo = np.linspace(-np.pi,np.pi,100)\n",
    "total_E_two_charges = []\n",
    "\n",
    "for i in phi_for_one_mo:\n",
    "    xa = [0,0.6] \n",
    "    ya = [0.3,0.3] \n",
    "    za = [0.3,0.3]\n",
    "\n",
    "    thetar = [0,0] \n",
    "    phir = [0,i] \n",
    "    moltypes =[1,1] \n",
    "\n",
    "    rall,qall = allatomposns(moltypes,xa,ya,za,phir,thetar)\n",
    "    rall = np.array(rall)*1e-9\n",
    "\n",
    "    potl_E_sum = potl_energy_sum(rall,qall)\n",
    "    total_E_two_charges.append(potl_E_sum)\n",
    "\n",
    "\n",
    "plt.figure(figsize=(8,5.5)) \n",
    "plt.title('total E energy against theta',fontsize=14)\n",
    "plt.plot(phi_for_one_mo, total_E_two_charges, marker='*')\n",
    "\n",
    "plt.xlabel('theta(rad)')\n",
    "plt.ylabel('total E (J)')\n",
    "plt.show();"
   ]
  },
  {
   "cell_type": "markdown",
   "metadata": {},
   "source": [
    "# for three molecules system"
   ]
  },
  {
   "cell_type": "markdown",
   "metadata": {},
   "source": [
    "### Investigation 1D: total potential energy against distance between two charges"
   ]
  },
  {
   "cell_type": "code",
   "execution_count": 13,
   "metadata": {},
   "outputs": [
    {
     "name": "stderr",
     "output_type": "stream",
     "text": [
      "C:\\Users\\AlbertCielstian\\Documents\\file_Chemistry_BSc\\yr2_MPC2_phy_proj\\MPC2_phy_proj.py:38: RuntimeWarning: divide by zero encountered in double_scalars\n",
      "  V=K * (q1*e/dist(r0,r1))\n"
     ]
    },
    {
     "data": {
      "image/png": "[encoded data removed]",
      "text/plain": [
       "<Figure size 576x396 with 1 Axes>"
      ]
     },
     "metadata": {
      "needs_background": "light"
     },
     "output_type": "display_data"
    }
   ],
   "source": [
    "ditance_bw_charges = np.linspace(0,1,100)\n",
    "total_E_two_charges = []\n",
    "\n",
    "for i in ditance_bw_charges:\n",
    "    xa = [0,i,0.6] \n",
    "    ya = [0.3,0.3,0.3] \n",
    "    za = [0.3,0.3,0.3]\n",
    "\n",
    "    thetar = [0,0,0] \n",
    "    phir = [0,0,0] \n",
    "    moltypes =[1,1,1]  \n",
    "\n",
    "    rall,qall = allatomposns(moltypes,xa,ya,za,phir,thetar)\n",
    "    rall = np.array(rall)*1e-9\n",
    "\n",
    "    potl_E_sum = potl_energy_sum(rall,qall)\n",
    "    total_E_two_charges.append(potl_E_sum)\n",
    "\n",
    "\n",
    "plt.figure(figsize=(8,5.5)) \n",
    "plt.title('total E energy against distance',fontsize=14)\n",
    "plt.plot(ditance_bw_charges, total_E_two_charges, marker='*')\n",
    "\n",
    "plt.xlabel('distance(nm)')\n",
    "plt.ylabel('total E (J)')\n",
    "plt.show();\n",
    "\n"
   ]
  },
  {
   "cell_type": "markdown",
   "metadata": {},
   "source": [
    "### Investigation 1D: total potential energy against theta for one molecule"
   ]
  },
  {
   "cell_type": "code",
   "execution_count": 14,
   "metadata": {},
   "outputs": [
    {
     "data": {
      "text/plain": [
       "\"    rall,qall = allatomposns(moltypes,xa,ya,za,phir,thetar)\\n    rall = np.array(rall)*1e-9\\n\\n    potl_E_sum = potl_energy_sum(rall,qall)\\n    total_E_two_charges.append(potl_E_sum)\\n\\n\\nplt.figure(figsize=(8,5.5)) \\nplt.title('total E energy against theta',fontsize=14)\\nplt.plot(theta_for_one_mo, total_E_two_charges, marker='*')\\n\\nplt.xlabel('theta(rad)')\\nplt.ylabel('total E (J)')\\nplt.show();\""
      ]
     },
     "execution_count": 14,
     "metadata": {},
     "output_type": "execute_result"
    }
   ],
   "source": [
    "'''    rall,qall = allatomposns(moltypes,xa,ya,za,phir,thetar)\n",
    "    rall = np.array(rall)*1e-9\n",
    "\n",
    "    potl_E_sum = potl_energy_sum(rall,qall)\n",
    "    total_E_two_charges.append(potl_E_sum)\n",
    "\n",
    "\n",
    "plt.figure(figsize=(8,5.5)) \n",
    "plt.title('total E energy against theta',fontsize=14)\n",
    "plt.plot(theta_for_one_mo, total_E_two_charges, marker='*')\n",
    "\n",
    "plt.xlabel('theta(rad)')\n",
    "plt.ylabel('total E (J)')\n",
    "plt.show();'''"
   ]
  },
  {
   "cell_type": "markdown",
   "metadata": {},
   "source": [
    "### Investigation 1D: total potential energy against phi for one molecule"
   ]
  },
  {
   "cell_type": "code",
   "execution_count": 15,
   "metadata": {
    "scrolled": false
   },
   "outputs": [
    {
     "data": {
      "image/png": "[encoded data removed]",
      "text/plain": [
       "<Figure size 576x396 with 1 Axes>"
      ]
     },
     "metadata": {
      "needs_background": "light"
     },
     "output_type": "display_data"
    }
   ],
   "source": [
    "phi_for_one_mo = np.linspace(-np.pi,np.pi,100)\n",
    "total_E_two_charges = []\n",
    "\n",
    "for i in phi_for_one_mo:\n",
    "    xa = [0,0.3,0.6] \n",
    "    ya = [0.3,0.3,0.3] \n",
    "    za = [0.3,0.6,0.3]\n",
    "\n",
    "    thetar = [0,0,0] \n",
    "    phir = [0,i,0] \n",
    "    moltypes =[1,1,1] \n",
    "\n",
    "    rall,qall = allatomposns(moltypes,xa,ya,za,phir,thetar)\n",
    "    rall = np.array(rall)*1e-9\n",
    "\n",
    "    potl_E_sum = potl_energy_sum(rall,qall)\n",
    "    total_E_two_charges.append(potl_E_sum)\n",
    "\n",
    "\n",
    "plt.figure(figsize=(8,5.5)) \n",
    "plt.title('total E energy against theta',fontsize=14)\n",
    "plt.plot(phi_for_one_mo, total_E_two_charges, marker='*')\n",
    "\n",
    "plt.xlabel('phi(rad)')\n",
    "plt.ylabel('total E (J)')\n",
    "plt.show();"
   ]
  },
  {
   "cell_type": "markdown",
   "metadata": {},
   "source": [
    "### three degree of freedom of phi angles of three mo."
   ]
  },
  {
   "cell_type": "code",
   "execution_count": 16,
   "metadata": {
    "scrolled": true
   },
   "outputs": [],
   "source": [
    "phi_list = np.linspace(-np.pi,np.pi,4)\n",
    "phi01, phi02, phi03 = np.meshgrid(phi_list, phi_list,phi_list)\n"
   ]
  },
  {
   "cell_type": "code",
   "execution_count": 17,
   "metadata": {
    "scrolled": false
   },
   "outputs": [],
   "source": [
    "total_E_two_charges = []\n",
    "\n",
    "for i in range(len(phi01)):\n",
    "        pinlistV1=[]\n",
    "        for j in range(len(phi01[i])):\n",
    "            pinlistV2=[]\n",
    "\n",
    "            for k in range(len(phi01[i][j])):\n",
    "                r0 = np.array([phi01[i][j][k],phi02[i][j][k],phi03[i][j][k]])\n",
    "                #Calcluate 1D potl for each in 3D\n",
    "                \n",
    "                xa = [0,0.3,0.6] \n",
    "                ya = [0.3,0.3,0.3] \n",
    "                za = [0.3,0.3,0.3]\n",
    "\n",
    "                thetar = [0,0,0] \n",
    "                phir = [phi01[i][j][k],phi02[i][j][k],phi03[i][j][k]] \n",
    "                moltypes =[1,1,1] \n",
    "\n",
    "                rall,qall = allatomposns(moltypes,xa,ya,za,phir,thetar)\n",
    "                rall = np.array(rall)*1e-9\n",
    "\n",
    "                potl_E_sum = potl_energy_sum(rall,qall)\n",
    "\n",
    "                pinlistV2.append(potl_E_sum)\n",
    "            pinlistV1.append(pinlistV2)\n",
    "        total_E_two_charges.append(pinlistV1)\n"
   ]
  },
  {
   "cell_type": "code",
   "execution_count": 18,
   "metadata": {},
   "outputs": [
    {
     "data": {
      "text/plain": [
       "-3.903056128141292e-18"
      ]
     },
     "execution_count": 18,
     "metadata": {},
     "output_type": "execute_result"
    }
   ],
   "source": [
    "np.max(total_E_two_charges)"
   ]
  },
  {
   "cell_type": "markdown",
   "metadata": {},
   "source": [
    "# for six molecules"
   ]
  },
  {
   "cell_type": "markdown",
   "metadata": {},
   "source": [
    "## electrostatic energy against total distance"
   ]
  },
  {
   "cell_type": "code",
   "execution_count": 10,
   "metadata": {},
   "outputs": [],
   "source": [
    "def total_dist(ri):\n",
    "    '''\n",
    "    calculate the total distance between each pair of atoms\n",
    "    '''\n",
    "    tot_value=0 #initialise the total potential energy\n",
    "    chargeadded=[] #list of indices of charges already added\n",
    "    for loop in range(len(ri)): #loop over each charge in turn\n",
    "        #....incomplete code below which you can use as a starting point\n",
    "        for j in chargeadded: #loop over charges already added (bringing charge loop towards charge j)            \n",
    "            tot_value_ij=dist(ri[j],ri[loop])\n",
    "            #print('Adding PE %.2e [units] of bringing charge %d towards charge %d' % (Uij,loop,j))\n",
    "            tot_value=tot_value+tot_value_ij\n",
    "        chargeadded.append(loop) #add the index of the added charge to the list\n",
    "    return tot_value "
   ]
  },
  {
   "cell_type": "code",
   "execution_count": 11,
   "metadata": {},
   "outputs": [],
   "source": [
    "def constrain01(xyz_coord,threshold):\n",
    "    chargeadded=[] #list of indices of charges already added\n",
    "    for loop in range(len(xyz_coord)): #loop over each charge in turn\n",
    "        for j in chargeadded: #loop over charges already added (bringing charge loop towards charge j)            \n",
    "            tot_value_ij=dist(xyz_coord[j],xyz_coord[loop])\n",
    "            if tot_value_ij<threshold:\n",
    "                return True\n",
    "        chargeadded.append(loop)"
   ]
  },
  {
   "cell_type": "code",
   "execution_count": 12,
   "metadata": {},
   "outputs": [
    {
     "name": "stdout",
     "output_type": "stream",
     "text": [
      "<class 'numpy.ndarray'>\n"
     ]
    }
   ],
   "source": [
    "xa=np.random.rand(2)\n",
    "ya=np.random.rand(2)\n",
    "za=np.random.rand(2)\n",
    "\n",
    "xyza = np.stack((np.array(xa), np.array(ya),np.array(za)), axis=-1)\n",
    "print(type(xyza))"
   ]
  },
  {
   "cell_type": "code",
   "execution_count": 22,
   "metadata": {},
   "outputs": [
    {
     "name": "stdout",
     "output_type": "stream",
     "text": [
      "None\n"
     ]
    }
   ],
   "source": [
    "\n",
    "\n",
    "\n",
    "\n",
    "testcoord = np.array([[0.08974, -0.1285111, 0.1375674],\n",
    "                      [-0.1559218, -0.0241778, 0.14234739999999999], \n",
    "                      [0.2090789, 0.09844520000000001, -0.0045693]])\n",
    "print(constrain01(testcoord,0.266))\n"
   ]
  },
  {
   "cell_type": "code",
   "execution_count": 13,
   "metadata": {},
   "outputs": [
    {
     "data": {
      "text/plain": [
       "'mappedStart=0.25\\nmappedEnd=0.75\\nx_p_mapped = []\\nfor i in x_p:\\n    x_p_mapped.append(translate(i,-1,1,mappedStart,mappedEnd))\\n\\ny_p_mapped = []\\nfor i in y_p:\\n    y_p_mapped.append(translate(i,-1,1,mappedStart,mappedEnd))\\n\\nz_p_mapped = []\\nfor i in z_p:\\n    z_p_mapped.append(translate(i,-1,1,mappedStart,mappedEnd))\\n    \\nx_p,y_p,z_p = fibonacci_sphere(samples=6)    \\nx_p_mapped,y_p_mapped,z_p_mapped'"
      ]
     },
     "execution_count": 13,
     "metadata": {},
     "output_type": "execute_result"
    }
   ],
   "source": [
    "import math\n",
    "\n",
    "\n",
    "def fibonacci_sphere(samples=1000):\n",
    "\n",
    "    x_p = []\n",
    "    y_p = []\n",
    "    z_p = []\n",
    "    \n",
    "    phi = math.pi * (3. - math.sqrt(5.))  # golden angle in radians\n",
    "\n",
    "    for i in range(samples):\n",
    "        y = 1 - (i / float(samples - 1)) * 2  # y goes from 1 to -1\n",
    "        radius = math.sqrt(1 - y * y)  # radius at y\n",
    "\n",
    "        theta = phi * i  # golden angle increment\n",
    "\n",
    "        x = math.cos(theta) * radius\n",
    "        z = math.sin(theta) * radius\n",
    "\n",
    "        x_p.append(x)\n",
    "        y_p.append(y)\n",
    "        z_p.append(z)\n",
    "\n",
    "    return x_p,y_p,z_p\n",
    "\n",
    "\n",
    "\n",
    "\n",
    "def translate(value, leftMin, leftMax, rightMin, rightMax):\n",
    "    # Figure out how 'wide' each range is\n",
    "    leftSpan = leftMax - leftMin\n",
    "    rightSpan = rightMax - rightMin\n",
    "\n",
    "    # Convert the left range into a 0-1 range (float)\n",
    "    valueScaled = float(value - leftMin) / float(leftSpan)\n",
    "\n",
    "    # Convert the 0-1 range into a value in the right range.\n",
    "    return rightMin + (valueScaled * rightSpan)\n",
    "\n",
    "\n",
    "\n",
    "\n",
    "\n",
    "'''mappedStart=0.25\n",
    "mappedEnd=0.75\n",
    "x_p_mapped = []\n",
    "for i in x_p:\n",
    "    x_p_mapped.append(translate(i,-1,1,mappedStart,mappedEnd))\n",
    "\n",
    "y_p_mapped = []\n",
    "for i in y_p:\n",
    "    y_p_mapped.append(translate(i,-1,1,mappedStart,mappedEnd))\n",
    "\n",
    "z_p_mapped = []\n",
    "for i in z_p:\n",
    "    z_p_mapped.append(translate(i,-1,1,mappedStart,mappedEnd))\n",
    "    \n",
    "x_p,y_p,z_p = fibonacci_sphere(samples=6)    \n",
    "x_p_mapped,y_p_mapped,z_p_mapped'''"
   ]
  },
  {
   "cell_type": "code",
   "execution_count": 14,
   "metadata": {},
   "outputs": [
    {
     "name": "stdout",
     "output_type": "stream",
     "text": [
      "potl_E_sum: -5.276342167390425e-18 J\n"
     ]
    },
    {
     "data": {
      "image/png": "[encoded data removed]",
      "text/plain": [
       "<Figure size 576x396 with 1 Axes>"
      ]
     },
     "metadata": {
      "needs_background": "light"
     },
     "output_type": "display_data"
    },
    {
     "data": {
      "application/vnd.jupyter.widget-view+json": {
       "model_id": "57801ac331844aa484cd9ce079d8a551",
       "version_major": 2,
       "version_minor": 0
      },
      "text/plain": [
       "interactive(children=(IntSlider(value=30, description='elevpara', max=90, min=-27, step=3), IntSlider(value=-6…"
      ]
     },
     "metadata": {},
     "output_type": "display_data"
    }
   ],
   "source": [
    "ditance_bw_all = []\n",
    "total_E_all = []\n",
    "\n",
    "datasets = []\n",
    "for i in range(50):\n",
    "    \n",
    "    xa=[0.5,\n",
    "    0.20505244876867207,\n",
    "    0.5428296831899158,\n",
    "    0.7980729498156808,\n",
    "    0.10611460587382854,\n",
    "    np.random.rand(1)[0]]\n",
    "    ya=[1.0, 0.8, 0.6, 0.4, 0.19999999999999996, np.random.rand(1)[0]]\n",
    "    za=[0.5,\n",
    "    0.7701961177046095,\n",
    "    0.011977850668792478,\n",
    "    0.8887833800308066,\n",
    "    0.4303272198482754,\n",
    "    np.random.rand(1)[0]]\n",
    "    thetar=np.random.rand(6)*np.pi*2 \n",
    "    phir=np.random.rand(6)*np.pi*2 \n",
    "    \n",
    "    datasets.append([moltypes,xa,ya,za,phir,thetar])\n",
    "    np.random.rand(1)\n",
    "    rall,qall = allatomposns(moltypes,xa,ya,za,phir,thetar)\n",
    "    while constrain01(rall,0.05):\n",
    "        \n",
    "        xa=[0.5,\n",
    "      0.20505244876867207,\n",
    "      0.5428296831899158,\n",
    "      0.7980729498156808,\n",
    "      0.10611460587382854,\n",
    "      np.random.rand(1)[0]]\n",
    "        ya=[1.0, 0.8, 0.6, 0.4, 0.19999999999999996, np.random.rand(1)[0]]\n",
    "        za=[0.5,\n",
    "      0.7701961177046095,\n",
    "      0.011977850668792478,\n",
    "      0.8887833800308066,\n",
    "      0.4303272198482754,\n",
    "      np.random.rand(1)[0]]\n",
    "        thetar=np.random.rand(6)*np.pi*2 \n",
    "        phir=np.random.rand(6)*np.pi*2 \n",
    "        \n",
    "        \n",
    "        # thetar=np.random.rand(6)\n",
    "        # phir=np.random.rand(6)\n",
    "\n",
    "        rall,qall = allatomposns(moltypes,xa,ya,za,phir,thetar)\n",
    "        \n",
    "    ditance_bw_all.append(total_dist(rall))\n",
    "\n",
    "    rall = np.array(rall)*1e-9\n",
    "    potl_E_sum = potl_energy_sum(rall,qall)\n",
    "    total_E_all.append(potl_E_sum)\n",
    "\n",
    "\n",
    "total_E_all = np.array(total_E_all)\n",
    "datasets = np.array(datasets)\n",
    "lowest_index = np.argmin(total_E_all)\n",
    "\n",
    "rall,qall = allatomposns(datasets[lowest_index][0],datasets[lowest_index][1],datasets[lowest_index][2],\\\n",
    "                         datasets[lowest_index][3],datasets[lowest_index][4],datasets[lowest_index][5])\n",
    "rall = np.array(rall)*1e-9\n",
    "\n",
    "potl_E_sum = potl_energy_sum(rall,qall)\n",
    "print('potl_E_sum:',potl_E_sum, 'J')\n",
    "    \n",
    "    \n",
    "    \n",
    "\n",
    "plt.figure(figsize=(8,5.5)) \n",
    "plt.title('total E against total distance between all pairs',fontsize=14)\n",
    "plt.plot(ditance_bw_all, total_E_all, marker='.',linestyle = '')\n",
    "\n",
    "plt.xlabel('total distance(nm)')\n",
    "plt.ylabel('total E (J)')\n",
    "plt.show();\n",
    "\n",
    "\n",
    "\n",
    "#plot the lowest e atoms posi.\n",
    "@interact\n",
    "def make_plot_2(elevpara=(-27,90,3),azimpara=(-117,0,3)):\n",
    "    f1,ax1 = mol_plot(moltypes,datasets[lowest_index][1],datasets[lowest_index][2],\\\n",
    "                      datasets[lowest_index][3],datasets[lowest_index][4],datasets[lowest_index][5])\n",
    "    ax1.set_xlabel('x (nm)')\n",
    "    ax1.set_ylabel('y (nm)')\n",
    "    ax1.set_zlabel('z (nm)')\n",
    "    ax1.set_title('molecule positions')\n",
    "    ax1.set_aspect('auto')\n",
    "    ax1.view_init(elev=elevpara, azim=azimpara) #adjust 'camera angle' with this command if desired - angles are in degrees\n",
    "    f1.show();"
   ]
  },
  {
   "cell_type": "code",
   "execution_count": 25,
   "metadata": {},
   "outputs": [
    {
     "data": {
      "text/plain": [
       "'\\n# one of the arrangement Hexagon\\n\\n        rand_p=np.random.rand(1)\\n        a=1/6\\n        b=a*3**0.5\\n        \\n        xa=[0,0,0,0,0,0] \\n        ya=[a,2*a,4*a,5*a,4*a,np.random.rand(1)[0]] \\n        za=[a+b,a+2*b,a+2*b,a+b,a,np.random.rand(1)[0]]\\n        #thetar=np.random.rand(6)*np.pi*2 \\n        #phir=np.random.rand(6)*np.pi*2 \\n        thetar=[0,0,0,0,0,0] \\n        phir=[0,0,0,0,0,0] \\n        moltypes=[1,1,1,1,1,1] '"
      ]
     },
     "execution_count": 25,
     "metadata": {},
     "output_type": "execute_result"
    }
   ],
   "source": [
    "'''\n",
    "# one of the arrangement Hexagon\n",
    "\n",
    "        rand_p=np.random.rand(1)\n",
    "        a=1/6\n",
    "        b=a*3**0.5\n",
    "        \n",
    "        xa=[0,0,0,0,0,0] \n",
    "        ya=[a,2*a,4*a,5*a,4*a,np.random.rand(1)[0]] \n",
    "        za=[a+b,a+2*b,a+2*b,a+b,a,np.random.rand(1)[0]]\n",
    "        #thetar=np.random.rand(6)*np.pi*2 \n",
    "        #phir=np.random.rand(6)*np.pi*2 \n",
    "        thetar=[0,0,0,0,0,0] \n",
    "        phir=[0,0,0,0,0,0] \n",
    "        moltypes=[1,1,1,1,1,1] '''"
   ]
  },
  {
   "cell_type": "code",
   "execution_count": 26,
   "metadata": {},
   "outputs": [
    {
     "data": {
      "text/plain": [
       "'#second arrangement: sphere surface\\n\\n\\n        xa=[0.5,\\n      0.20505244876867207,\\n      0.5428296831899158,\\n      0.7980729498156808,\\n      0.10611460587382854,\\n      np.random.rand(1)[0]]\\n        ya=[1.0, 0.8, 0.6, 0.4, 0.19999999999999996, np.random.rand(1)[0]]\\n        za=[0.5,\\n      0.7701961177046095,\\n      0.011977850668792478,\\n      0.8887833800308066,\\n      0.4303272198482754,\\n      np.random.rand(1)[0]]\\n        thetar=np.random.rand(6)*np.pi*2 \\n        phir=np.random.rand(6)*np.pi*2 '"
      ]
     },
     "execution_count": 26,
     "metadata": {},
     "output_type": "execute_result"
    }
   ],
   "source": [
    "'''#second arrangement: sphere surface\n",
    "\n",
    "\n",
    "        xa=[0.5,\n",
    "      0.20505244876867207,\n",
    "      0.5428296831899158,\n",
    "      0.7980729498156808,\n",
    "      0.10611460587382854,\n",
    "      np.random.rand(1)[0]]\n",
    "        ya=[1.0, 0.8, 0.6, 0.4, 0.19999999999999996, np.random.rand(1)[0]]\n",
    "        za=[0.5,\n",
    "      0.7701961177046095,\n",
    "      0.011977850668792478,\n",
    "      0.8887833800308066,\n",
    "      0.4303272198482754,\n",
    "      np.random.rand(1)[0]]\n",
    "        thetar=np.random.rand(6)*np.pi*2 \n",
    "        phir=np.random.rand(6)*np.pi*2 '''"
   ]
  },
  {
   "cell_type": "code",
   "execution_count": 44,
   "metadata": {},
   "outputs": [
    {
     "data": {
      "image/png": "[encoded data removed]",
      "text/plain": [
       "<Figure size 576x396 with 1 Axes>"
      ]
     },
     "metadata": {
      "needs_background": "light"
     },
     "output_type": "display_data"
    }
   ],
   "source": [
    "np.random.rand(6)*np.pi*2 \n",
    "\n",
    "\n",
    "raList = np.linspace(0.2,0.5,80)\n",
    "\n",
    "total_E_two_charges = []\n",
    "\n",
    "\n",
    "for ra in raList:\n",
    "    avg_e_L = []\n",
    "    for i in range(800):\n",
    "        rb = ra/2*3**0.5\n",
    "        c = 0.5\n",
    "\n",
    "        xa =  [c,c+rb,c+rb,c,c-rb,c-rb]\n",
    "        ya = [c-ra,c-ra/2,c+ra/2,c+ra,c+ra/2,c-ra/2] \n",
    "        za = [0,0,0,0,0,0] \n",
    "\n",
    "        thetar = np.random.rand(6)*np.pi*2\n",
    "        phir = np.linspace(-np.pi,+np.pi,6) \n",
    "        moltypes =[1,1,1,1,1,1] \n",
    "\n",
    "        rall,qall = allatomposns(moltypes,xa,ya,za,phir,thetar)\n",
    "        rall = np.array(rall)*1e-9\n",
    "\n",
    "        potl_E_sum = potl_energy_sum(rall,qall)\n",
    "        \n",
    "        avg_e_L.append(potl_E_sum)\n",
    "    total_E_two_charges.append(np.mean(avg_e_L))\n",
    "\n",
    "\n",
    "plt.figure(figsize=(8,5.5)) \n",
    "plt.title('total E energy against hexagon radius',fontsize=14)\n",
    "plt.plot(raList, total_E_two_charges, marker='*')\n",
    "\n",
    "plt.xlabel('radius(nm)')\n",
    "plt.ylabel('total E (J)')\n",
    "plt.show();"
   ]
  },
  {
   "cell_type": "markdown",
   "metadata": {},
   "source": [
    "## electrostatic energy against hexagon radius"
   ]
  },
  {
   "cell_type": "code",
   "execution_count": 41,
   "metadata": {},
   "outputs": [
    {
     "data": {
      "image/png": "[encoded data removed]",
      "text/plain": [
       "<Figure size 576x396 with 1 Axes>"
      ]
     },
     "metadata": {
      "needs_background": "light"
     },
     "output_type": "display_data"
    }
   ],
   "source": [
    "raList = np.linspace(0.2,0.5,50)\n",
    "\n",
    "total_E_two_charges = []\n",
    "\n",
    "\n",
    "for ra in raList:\n",
    "    \n",
    "    rb = ra/2*3**0.5\n",
    "    c = 0.5\n",
    "    \n",
    "    xa =  [c,c+rb,c+rb,c,c-rb,c-rb]\n",
    "    ya = [c-ra,c-ra/2,c+ra/2,c+ra,c+ra/2,c-ra/2] \n",
    "    za = [0,0,0,0,0,0] \n",
    "\n",
    "    thetar = [0,0,0,0,0,0]\n",
    "    phir = np.linspace(-np.pi,+np.pi,6) \n",
    "    moltypes =[1,1,1,1,1,1] \n",
    "\n",
    "    rall,qall = allatomposns(moltypes,xa,ya,za,phir,thetar)\n",
    "    rall = np.array(rall)*1e-9\n",
    "\n",
    "    potl_E_sum = potl_energy_sum(rall,qall)\n",
    "    total_E_two_charges.append(potl_E_sum)\n",
    "\n",
    "\n",
    "plt.figure(figsize=(8,5.5)) \n",
    "plt.title('total E energy against hexagon radius',fontsize=14)\n",
    "plt.plot(raList, total_E_two_charges, marker='*')\n",
    "\n",
    "plt.xlabel('radius(nm)')\n",
    "plt.ylabel('total E (J)')\n",
    "plt.show();"
   ]
  },
  {
   "cell_type": "markdown",
   "metadata": {},
   "source": [
    "## electrostatic energy and theta rotation"
   ]
  },
  {
   "cell_type": "code",
   "execution_count": 34,
   "metadata": {},
   "outputs": [
    {
     "data": {
      "text/plain": [
       "array([-3.14159265, -1.88495559, -0.62831853,  0.62831853,  1.88495559,\n",
       "        3.14159265])"
      ]
     },
     "execution_count": 34,
     "metadata": {},
     "output_type": "execute_result"
    }
   ],
   "source": [
    "tota = np.linspace(-np.pi,+np.pi,6)\n",
    "tota"
   ]
  },
  {
   "cell_type": "code",
   "execution_count": 17,
   "metadata": {},
   "outputs": [
    {
     "data": {
      "image/png": "[encoded data removed]",
      "text/plain": [
       "<Figure size 576x396 with 1 Axes>"
      ]
     },
     "metadata": {
      "needs_background": "light"
     },
     "output_type": "display_data"
    }
   ],
   "source": [
    "raList = np.linspace(0.2,0.5,50)\n",
    "\n",
    "total_E_two_charges = []\n",
    "\n",
    "\n",
    "for ra in raList:\n",
    "    \n",
    "    rb = ra/2*3**0.5\n",
    "    c = 0.5\n",
    "    \n",
    "    xa = [0,0,0,0,0,0] \n",
    "    ya = [c-ra,c-ra/2,c+ra/2,c+ra,c+ra/2,c-ra/2] \n",
    "    za = [c,c+rb,c+rb,c,c-rb,c-rb]\n",
    "\n",
    "    thetar = np.linspace(-np.pi,+np.pi,6) \n",
    "    phir = [0,0,0,0,0,0] \n",
    "    moltypes =[1,1,1,1,1,1] \n",
    "\n",
    "    rall,qall = allatomposns(moltypes,xa,ya,za,phir,thetar)\n",
    "    rall = np.array(rall)*1e-9\n",
    "\n",
    "    potl_E_sum = potl_energy_sum(rall,qall)\n",
    "    total_E_two_charges.append(potl_E_sum)\n",
    "\n",
    "\n",
    "plt.figure(figsize=(8,5.5)) \n",
    "plt.title('total E energy against hexagon radius',fontsize=14)\n",
    "plt.plot(raList, total_E_two_charges, marker='*')\n",
    "\n",
    "plt.xlabel('radius(nm)')\n",
    "plt.ylabel('total E (J)')\n",
    "plt.show();"
   ]
  },
  {
   "cell_type": "markdown",
   "metadata": {},
   "source": [
    "## real ice structure"
   ]
  },
  {
   "cell_type": "code",
   "execution_count": 29,
   "metadata": {},
   "outputs": [],
   "source": [
    "H = 0.2\n",
    "l = 0.276 #O-O length in nm\n",
    "lV = l*np.cos(75.7/180*np.pi)\n",
    "lH = l*np.sin(75.7/180*np.pi)"
   ]
  },
  {
   "cell_type": "code",
   "execution_count": 30,
   "metadata": {},
   "outputs": [],
   "source": [
    "H = 0.2\n",
    "l = 0.276 #O-O length in nm\n",
    "lV = l*np.cos(75.7/180*np.pi)\n",
    "lH = l*np.sin(75.7/180*np.pi)\n",
    "\n",
    "\n",
    "xa = [H,H+lV,H,H+lV,H,H+lV] \n",
    "ya = [c-ra,c-ra/2,c+ra/2,c+ra,c+ra/2,c-ra/2] \n",
    "za = [c,c+rb,c+rb,c,c-rb,c-rb]\n",
    "\n",
    "thetar = [0,0,0,0,0,0] \n",
    "phir = [np.pi/2,np.pi/2,np.pi/2,np.pi/2,np.pi/2,np.pi/2] \n",
    "moltypes =[1,1,1,1,1,1] "
   ]
  },
  {
   "cell_type": "code",
   "execution_count": 30,
   "metadata": {
    "scrolled": false
   },
   "outputs": [
    {
     "name": "stdout",
     "output_type": "stream",
     "text": [
      "total E: -5.259811038390616e-27\n",
      "[array([0.2       , 0.23255166, 0.5       ]), array([0.21909072, 0.17710818, 0.57573225]), array([0.21909072, 0.17710818, 0.42426775]), array([0.26817173, 0.36627583, 0.73161706]), array([0.31606173, 0.28332792, 0.73161706]), array([0.25618103, 0.38704433, 0.63888788]), array([0.2       , 0.63372417, 0.73161706]), array([0.21909072, 0.57828069, 0.80734931]), array([0.21909072, 0.57828069, 0.65588481]), array([0.26817173, 0.76744834, 0.5       ]), array([0.31606173, 0.68450043, 0.5       ]), array([0.25618103, 0.78821684, 0.40727082]), array([0.2       , 0.63372417, 0.26838294]), array([0.21909072, 0.57828069, 0.34411519]), array([0.21909072, 0.57828069, 0.19265069]), array([0.26817173, 0.36627583, 0.26838294]), array([0.31606173, 0.28332792, 0.26838294]), array([0.25618103, 0.38704433, 0.17565376])] [-0.6569052996153647, 0.32845264980768235, 0.32845264980768235, -0.6569052996153647, 0.32845264980768235, 0.32845264980768235, -0.6569052996153647, 0.32845264980768235, 0.32845264980768235, -0.6569052996153647, 0.32845264980768235, 0.32845264980768235, -0.6569052996153647, 0.32845264980768235, 0.32845264980768235, -0.6569052996153647, 0.32845264980768235, 0.32845264980768235]\n"
     ]
    },
    {
     "data": {
      "application/vnd.jupyter.widget-view+json": {
       "model_id": "64564213516d4aeb848b07c57d6f6560",
       "version_major": 2,
       "version_minor": 0
      },
      "text/plain": [
       "interactive(children=(IntSlider(value=30, description='elevpara', max=90, min=-27, step=3), IntSlider(value=-6…"
      ]
     },
     "metadata": {},
     "output_type": "display_data"
    }
   ],
   "source": [
    "#Debugging Part 2/3\n",
    "\n",
    "H = 0.2\n",
    "l = 0.276 #O-O length in nm\n",
    "lV = l*np.cos(75.7/180*np.pi)\n",
    "lH = l*np.sin(75.7/180*np.pi)\n",
    "\n",
    "ra=lH\n",
    "rb = ra/2*3**0.5\n",
    "c = 0.5\n",
    "\n",
    "\n",
    "xa = [H,H+lV,H,H+lV,H,H+lV] \n",
    "ya = [c-ra,c-ra/2,c+ra/2,c+ra,c+ra/2,c-ra/2] \n",
    "za = [c,c+rb,c+rb,c,c-rb,c-rb]\n",
    "\n",
    "thetar = [0,-52.25/180*np.pi,0,-52.25/180*np.pi,0,-52.25/180*np.pi]\n",
    "phir = [-71/180*np.pi,-60/180*np.pi,-71/180*np.pi,-60/180*np.pi,-71/180*np.pi,-60/180*np.pi]\n",
    "moltypes =[1,1,1,1,1,1] \n",
    "\n",
    "rall,qall = allatomposns(moltypes,xa,ya,za,phir,thetar)\n",
    "print('total E:', potl_energy_sum(rall,qall))\n",
    "\n",
    "print(rall,qall)\n",
    "@interact\n",
    "def make_plot_2(elevpara=(-27,90,3),azimpara=(-117,0,3)):\n",
    "    f1,ax1=mol_plot(moltypes,xa,ya,za,phir,thetar)\n",
    "    ax1.set_xlabel('x (nm)')\n",
    "    ax1.set_ylabel('y (nm)')\n",
    "    ax1.set_zlabel('z (nm)')\n",
    "    ax1.set_title('molecule positions')\n",
    "    ax1.set_aspect('auto')\n",
    "    ax1.view_init(elev=elevpara, azim=azimpara) #adjust 'camera angle' with this command if desired - angles are in degrees\n",
    "    f1.show();"
   ]
  },
  {
   "cell_type": "markdown",
   "metadata": {},
   "source": [
    "## random six"
   ]
  },
  {
   "cell_type": "code",
   "execution_count": 31,
   "metadata": {},
   "outputs": [
    {
     "name": "stdout",
     "output_type": "stream",
     "text": [
      "potl_E_sum: -5.328069086616345e-18 J\n"
     ]
    },
    {
     "data": {
      "image/png": "[encoded data removed]",
      "text/plain": [
       "<Figure size 576x396 with 1 Axes>"
      ]
     },
     "metadata": {
      "needs_background": "light"
     },
     "output_type": "display_data"
    },
    {
     "data": {
      "application/vnd.jupyter.widget-view+json": {
       "model_id": "b6c3313c72e94539bd78ae4f3968177a",
       "version_major": 2,
       "version_minor": 0
      },
      "text/plain": [
       "interactive(children=(IntSlider(value=30, description='elevpara', max=90, min=-27, step=3), IntSlider(value=-6…"
      ]
     },
     "metadata": {},
     "output_type": "display_data"
    }
   ],
   "source": [
    "ditance_bw_all = []\n",
    "total_E_all = []\n",
    "\n",
    "datasets = []\n",
    "for i in range(1000):\n",
    "    # generate a set of coord.\n",
    "    xa=np.random.rand(6)\n",
    "    ya=np.random.rand(6)\n",
    "    za=np.random.rand(6)\n",
    "    thetar=np.random.rand(6)*np.pi*2 \n",
    "    phir=np.random.rand(6)*np.pi*2 \n",
    "    xyza = np.stack((np.array(xa), np.array(ya),np.array(za)), axis=-1)\n",
    "   \n",
    "    while constrain01(xyza,0.24): # test the genrated coord. set, if dist bw O-O < threshold\n",
    "        #inside the loop, generate another set\n",
    "        xa=np.random.rand(6)\n",
    "        ya=np.random.rand(6)\n",
    "        za=np.random.rand(6)\n",
    "        thetar=np.random.rand(6)*np.pi*2 \n",
    "        phir=np.random.rand(6)*np.pi*2 \n",
    "        xyza = np.stack((np.array(xa), np.array(ya),np.array(za)), axis=-1)\n",
    "        \n",
    "        if constrain01(xyza,0.266):# test if the set is still:dist bw O-O < 0.266\n",
    "            continue# go to the beginning and re-genrate\n",
    "        else:# find the dist bw O-O >= 0.266\n",
    "            #calcuate the rall and qall            \n",
    "            break# end the loop, this coord. set is generated successfully.\n",
    "\n",
    "    # then, use this generated coord, save the data\n",
    "    rall,qall = allatomposns(moltypes,xa,ya,za,phir,thetar)\n",
    "    datasets.append([moltypes,xa,ya,za,phir,thetar])# all the succeed coord. set is saved here\n",
    "     \n",
    "    #calculate the total distance\n",
    "    ditance_bw_all.append(total_dist(rall))\n",
    "    #calculate the total E_energy\n",
    "    rall = np.array(rall)*1e-9\n",
    "    potl_E_sum = potl_energy_sum(rall,qall)\n",
    "    total_E_all.append(potl_E_sum)# all the total E_energy of the succeed coord. set are saved here\n",
    "\n",
    "#------the coord. set finish generating------\n",
    "#for all the successfully generated coord. sets, find the lowest one\n",
    "total_E_all = np.array(total_E_all)\n",
    "datasets = np.array(datasets)\n",
    "lowest_index = np.argmin(total_E_all)\n",
    "\n",
    "# calculate the lowest energy \n",
    "rall,qall = allatomposns(datasets[lowest_index][0],datasets[lowest_index][1],datasets[lowest_index][2],\\\n",
    "                         datasets[lowest_index][3],datasets[lowest_index][4],datasets[lowest_index][5])\n",
    "rall = np.array(rall)*1e-9\n",
    "potl_E_sum = potl_energy_sum(rall,qall)\n",
    "print('potl_E_sum:',potl_E_sum, 'J')\n",
    "    \n",
    "\n",
    "#-------plot------\n",
    "#plot all the possible coord.\n",
    "plt.figure(figsize=(8,5.5)) \n",
    "plt.title('total E against total distance between all pairs',fontsize=14)\n",
    "plt.plot(ditance_bw_all, total_E_all, marker='.',linestyle = '')\n",
    "\n",
    "plt.xlabel('total distance(nm)')\n",
    "plt.ylabel('total E (J)')\n",
    "plt.show();\n",
    "\n",
    "#-------plot------\n",
    "#plot the lowest E atoms posi.(interactive)\n",
    "@interact\n",
    "def make_plot_2(elevpara=(-27,90,3),azimpara=(-117,0,3)):\n",
    "    f1,ax1 = mol_plot(moltypes,datasets[lowest_index][1],datasets[lowest_index][2],\\\n",
    "                      datasets[lowest_index][3],datasets[lowest_index][4],datasets[lowest_index][5])\n",
    "    ax1.set_xlabel('x (nm)')\n",
    "    ax1.set_ylabel('y (nm)')\n",
    "    ax1.set_zlabel('z (nm)')\n",
    "    ax1.set_title('molecule positions')\n",
    "    ax1.set_aspect('auto')\n",
    "    ax1.view_init(elev=elevpara, azim=azimpara) #adjust 'camera angle' with this command if desired - angles are in degrees\n",
    "    f1.show();"
   ]
  },
  {
   "cell_type": "markdown",
   "metadata": {},
   "source": [
    "# Water Hexamer"
   ]
  },
  {
   "cell_type": "markdown",
   "metadata": {},
   "source": [
    "## Prime isomer"
   ]
  },
  {
   "cell_type": "code",
   "execution_count": 5,
   "metadata": {},
   "outputs": [],
   "source": [
    "rall =  [[0.08974, -0.1285111, 0.1375674], [0.093366, -0.16202490000000003, 0.046129100000000006], [0.15384240000000002, -0.05632700000000001, 0.13259810000000002], [-0.1559218, -0.0241778, 0.14234739999999999], [-0.20641020000000002, -0.05019660000000001, 0.2197464], [-0.06776560000000001, -0.0678646, 0.1525237], [0.2090789, 0.09844520000000001, -0.0045693], [0.1258568, 0.1498421, -0.0018646000000000001], [0.2788216, 0.16420980000000002, -0.0093886], [-0.0447032, 0.202126, 0.0012114], [-0.0903998, 0.1539985, 0.0716909], [-0.09110810000000001, 0.1700472, -0.0771056], [-0.1776681, -0.0211411, -0.1351176], [-0.2560698, -0.05161790000000001, -0.18140610000000001], [-0.1949801, -0.0387242, -0.040953], [0.09244000000000001, -0.1339405, -0.14323950000000002], [0.0044626, -0.0992399, -0.16352670000000002], [0.14665809999999999, -0.0545087, -0.13404100000000002]]\n",
    "qall =  [-0.8043375515414669, 0.40216877577073346, 0.40216877577073346, -0.8043375515414669, 0.40216877577073346, 0.40216877577073346, -0.8043375515414669, 0.40216877577073346, 0.40216877577073346, -0.8043375515414669, 0.40216877577073346, 0.40216877577073346, -0.8043375515414669, 0.40216877577073346, 0.40216877577073346, -0.8043375515414669, 0.40216877577073346, 0.40216877577073346]"
   ]
  },
  {
   "cell_type": "code",
   "execution_count": 4,
   "metadata": {},
   "outputs": [
    {
     "name": "stdout",
     "output_type": "stream",
     "text": [
      "total E: -5.2819869395320895e-09\n"
     ]
    }
   ],
   "source": [
    "rall = np.array(rall)*1E-9\n",
    "print('total E:', potl_energy_sum(rall,qall))"
   ]
  },
  {
   "cell_type": "markdown",
   "metadata": {},
   "source": [
    "## Crown Isomer"
   ]
  },
  {
   "cell_type": "markdown",
   "metadata": {},
   "source": [
    "# End of notebook."
   ]
  },
  {
   "cell_type": "code",
   "execution_count": 5,
   "metadata": {},
   "outputs": [
    {
     "ename": "NameError",
     "evalue": "name 'H' is not defined",
     "output_type": "error",
     "traceback": [
      "\u001b[1;31m---------------------------------------------------------------------------\u001b[0m",
      "\u001b[1;31mNameError\u001b[0m                                 Traceback (most recent call last)",
      "\u001b[1;32m<ipython-input-5-eeb13ca082ec>\u001b[0m in \u001b[0;36m<module>\u001b[1;34m\u001b[0m\n\u001b[0;32m      1\u001b[0m \u001b[1;31m#Debugging Part 2/3\u001b[0m\u001b[1;33m\u001b[0m\u001b[1;33m\u001b[0m\u001b[1;33m\u001b[0m\u001b[0m\n\u001b[0;32m      2\u001b[0m \u001b[1;33m\u001b[0m\u001b[0m\n\u001b[1;32m----> 3\u001b[1;33m \u001b[0mxa\u001b[0m \u001b[1;33m=\u001b[0m \u001b[1;33m[\u001b[0m\u001b[0mH\u001b[0m\u001b[1;33m,\u001b[0m\u001b[0mH\u001b[0m\u001b[1;33m+\u001b[0m\u001b[0mlV\u001b[0m\u001b[1;33m,\u001b[0m\u001b[0mH\u001b[0m\u001b[1;33m,\u001b[0m\u001b[0mH\u001b[0m\u001b[1;33m+\u001b[0m\u001b[0mlV\u001b[0m\u001b[1;33m,\u001b[0m\u001b[0mH\u001b[0m\u001b[1;33m,\u001b[0m\u001b[0mH\u001b[0m\u001b[1;33m+\u001b[0m\u001b[0mlV\u001b[0m\u001b[1;33m]\u001b[0m\u001b[1;33m\u001b[0m\u001b[1;33m\u001b[0m\u001b[0m\n\u001b[0m\u001b[0;32m      4\u001b[0m \u001b[0mya\u001b[0m \u001b[1;33m=\u001b[0m \u001b[1;33m[\u001b[0m\u001b[0mc\u001b[0m\u001b[1;33m-\u001b[0m\u001b[0mra\u001b[0m\u001b[1;33m,\u001b[0m\u001b[0mc\u001b[0m\u001b[1;33m-\u001b[0m\u001b[0mra\u001b[0m\u001b[1;33m/\u001b[0m\u001b[1;36m2\u001b[0m\u001b[1;33m,\u001b[0m\u001b[0mc\u001b[0m\u001b[1;33m+\u001b[0m\u001b[0mra\u001b[0m\u001b[1;33m/\u001b[0m\u001b[1;36m2\u001b[0m\u001b[1;33m,\u001b[0m\u001b[0mc\u001b[0m\u001b[1;33m+\u001b[0m\u001b[0mra\u001b[0m\u001b[1;33m,\u001b[0m\u001b[0mc\u001b[0m\u001b[1;33m+\u001b[0m\u001b[0mra\u001b[0m\u001b[1;33m/\u001b[0m\u001b[1;36m2\u001b[0m\u001b[1;33m,\u001b[0m\u001b[0mc\u001b[0m\u001b[1;33m-\u001b[0m\u001b[0mra\u001b[0m\u001b[1;33m/\u001b[0m\u001b[1;36m2\u001b[0m\u001b[1;33m]\u001b[0m\u001b[1;33m\u001b[0m\u001b[1;33m\u001b[0m\u001b[0m\n\u001b[0;32m      5\u001b[0m \u001b[0mza\u001b[0m \u001b[1;33m=\u001b[0m \u001b[1;33m[\u001b[0m\u001b[0mc\u001b[0m\u001b[1;33m,\u001b[0m\u001b[0mc\u001b[0m\u001b[1;33m+\u001b[0m\u001b[0mrb\u001b[0m\u001b[1;33m,\u001b[0m\u001b[0mc\u001b[0m\u001b[1;33m+\u001b[0m\u001b[0mrb\u001b[0m\u001b[1;33m,\u001b[0m\u001b[0mc\u001b[0m\u001b[1;33m,\u001b[0m\u001b[0mc\u001b[0m\u001b[1;33m-\u001b[0m\u001b[0mrb\u001b[0m\u001b[1;33m,\u001b[0m\u001b[0mc\u001b[0m\u001b[1;33m-\u001b[0m\u001b[0mrb\u001b[0m\u001b[1;33m]\u001b[0m\u001b[1;33m\u001b[0m\u001b[1;33m\u001b[0m\u001b[0m\n",
      "\u001b[1;31mNameError\u001b[0m: name 'H' is not defined"
     ]
    }
   ],
   "source": [
    "#Debugging Part 2/3\n",
    "\n",
    "xa = [H,H+lV,H,H+lV,H,H+lV] \n",
    "ya = [c-ra,c-ra/2,c+ra/2,c+ra,c+ra/2,c-ra/2] \n",
    "za = [c,c+rb,c+rb,c,c-rb,c-rb]\n",
    "\n",
    "thetar = [0,0,0,0,0,0] \n",
    "phir = [np.pi/2,np.pi/2,np.pi/2,np.pi/2,np.pi/2,np.pi/2] \n",
    "moltypes =[1,1,1,1,1,1] \n",
    "\n",
    "\n",
    "\n",
    "\n",
    "@interact\n",
    "def make_plot_2(elevpara=(-27,90,1),azimpara=(-117,0,1)):\n",
    "    f1,ax1=mol_plot(moltypes,xa,ya,za,phir,thetar)\n",
    "    ax1.set_xlabel('x (nm)')\n",
    "    ax1.set_ylabel('y (nm)')\n",
    "    ax1.set_zlabel('z (nm)')\n",
    "    ax1.set_title('molecule positions')\n",
    "    ax1.set_aspect('auto')\n",
    "    ax1.view_init(elev=elevpara, azim=azimpara) #adjust 'camera angle' with this command if desired - angles are in degrees\n",
    "    f1.show();"
   ]
  },
  {
   "cell_type": "code",
   "execution_count": null,
   "metadata": {},
   "outputs": [],
   "source": []
  },
  {
   "cell_type": "code",
   "execution_count": null,
   "metadata": {},
   "outputs": [],
   "source": []
  },
  {
   "cell_type": "code",
   "execution_count": null,
   "metadata": {},
   "outputs": [],
   "source": []
  },
  {
   "cell_type": "code",
   "execution_count": null,
   "metadata": {},
   "outputs": [],
   "source": []
  },
  {
   "cell_type": "code",
   "execution_count": 35,
   "metadata": {},
   "outputs": [
    {
     "name": "stderr",
     "output_type": "stream",
     "text": [
      "<ipython-input-35-eb38e1bdd318>:22: UserWarning: Matplotlib is currently using module://ipykernel.pylab.backend_inline, which is a non-GUI backend, so cannot show the figure.\n",
      "  f1.show()\n"
     ]
    },
    {
     "name": "stdout",
     "output_type": "stream",
     "text": [
      "-7.868657177533296e-27\n"
     ]
    },
    {
     "data": {
      "image/png": "[encoded data removed]",
      "text/plain": [
       "<Figure size 432x288 with 1 Axes>"
      ]
     },
     "metadata": {
      "needs_background": "light"
     },
     "output_type": "display_data"
    }
   ],
   "source": [
    "#define molecule anchor positions and orientations here\n",
    "#below values are for just two molecules; to add more molecules to the list, add new elements to each array\n",
    "\n",
    "#this example defines three CO2 molecules, positioned at (0,0,0), (0.2,0.2,0.2), (0.4,0.4,0.4) in the units used and with no rotation\n",
    "xa=np.random.rand(6) #x coordinates of molecule anchors\n",
    "ya=np.random.rand(6) #y coordinates of molecule anchors\n",
    "za=np.random.rand(6) #z coordinates of molecule anchors\n",
    "thetar=np.random.rand(6)*np.pi*2 #no theta rotation for any of the molecules\n",
    "phir=np.random.rand(6)*np.pi*2 #no phi rotation for any of the molecules\n",
    "moltypes=[1,1,1,1,1,1] #code to indicate what type of molecule each one is.  type=0 for CO2, 1 for water\n",
    "\n",
    "#%matplotlib notebook\n",
    "\n",
    "f1,ax1=mol_plot(moltypes,xa,ya,za,phir,thetar)\n",
    "#add labels\n",
    "ax1.set_xlabel('x (nm)')\n",
    "ax1.set_ylabel('y (nm)')\n",
    "ax1.set_zlabel('z (nm)')\n",
    "ax1.set_title('molecule positions')\n",
    "ax1.set_aspect('auto')\n",
    "ax1.view_init(elev=90., azim=90) #adjust 'camera angle' with this command if desired - angles are in degrees\n",
    "f1.show()\n",
    "\n",
    "\n",
    "\n",
    "#Example of calling function allatomposns() to get the coordinates and charges of all atoms in a list\n",
    "rall,qall=allatomposns(moltypes,xa,ya,za,phir,thetar)\n",
    "\n",
    "\n",
    "# Use the function provided above to get the position coordinates of all 18 atoms and the corresponding charge\n",
    "r_randMolecules = rall\n",
    "q_randMolecules = qall\n",
    "\n",
    "print(potl_energy_sum(rall,qall))\n"
   ]
  },
  {
   "cell_type": "code",
   "execution_count": 36,
   "metadata": {},
   "outputs": [
    {
     "name": "stdout",
     "output_type": "stream",
     "text": [
      "potl_E_sum = -1.3123192169132227e-18 J\n"
     ]
    },
    {
     "data": {
      "image/png": "[encoded data removed]",
      "text/plain": [
       "<Figure size 432x288 with 1 Axes>"
      ]
     },
     "metadata": {
      "needs_background": "light"
     },
     "output_type": "display_data"
    }
   ],
   "source": [
    "xa=np.array([0.3]) #x coordinates of molecule anchors\n",
    "ya=np.array([0.3]) #y coordinates of molecule anchors\n",
    "za=np.array([0.3]) #z coordinates of molecule anchors\n",
    "thetar=[0] #no theta rotation for any of the molecules\n",
    "phir=[0] #no phi rotation for any of the molecules\n",
    "moltypes=[1] #code to indicate what type of molecule each one is.  type=0 for CO2, 1 for water\n",
    "\n",
    "f1,ax1=mol_plot(moltypes,xa,ya,za,phir,thetar)\n",
    "#add labels\n",
    "ax1.set_xlabel('x (nm)')\n",
    "ax1.set_ylabel('y (nm)')\n",
    "ax1.set_zlabel('z (nm)')\n",
    "ax1.set_title('molecule positions')\n",
    "ax1.set_aspect('auto')\n",
    "ax1.view_init(elev=0, azim=75) #adjust 'camera angle' with this command if desired - angles are in degrees\n",
    "\n",
    "\n",
    "rall,qall=allatomposns(moltypes,xa,ya,za,phir,thetar)\n",
    "rall = np.array(rall)*1e-9\n",
    "\n",
    "potl_E_sum = potl_energy_sum(rall,qall)\n",
    "print('potl_E_sum =',potl_E_sum, 'J')"
   ]
  },
  {
   "cell_type": "code",
   "execution_count": null,
   "metadata": {},
   "outputs": [],
   "source": []
  },
  {
   "cell_type": "code",
   "execution_count": null,
   "metadata": {},
   "outputs": [],
   "source": []
  },
  {
   "cell_type": "code",
   "execution_count": null,
   "metadata": {},
   "outputs": [],
   "source": []
  },
  {
   "cell_type": "code",
   "execution_count": null,
   "metadata": {},
   "outputs": [],
   "source": []
  },
  {
   "cell_type": "code",
   "execution_count": null,
   "metadata": {},
   "outputs": [],
   "source": []
  }
 ],
 "metadata": {
  "kernelspec": {
   "display_name": "Python 3",
   "language": "python",
   "name": "python3"
  },
  "language_info": {
   "codemirror_mode": {
    "name": "ipython",
    "version": 3
   },
   "file_extension": ".py",
   "mimetype": "text/x-python",
   "name": "python",
   "nbconvert_exporter": "python",
   "pygments_lexer": "ipython3",
   "version": "3.8.5"
  },
  "toc": {
   "base_numbering": 1,
   "nav_menu": {},
   "number_sections": true,
   "sideBar": true,
   "skip_h1_title": false,
   "title_cell": "Table of Contents",
   "title_sidebar": "Contents",
   "toc_cell": false,
   "toc_position": {
    "height": "calc(100% - 180px)",
    "left": "10px",
    "top": "150px",
    "width": "183.987px"
   },
   "toc_section_display": true,
   "toc_window_display": true
  }
 },
 "nbformat": 4,
 "nbformat_minor": 4
}
